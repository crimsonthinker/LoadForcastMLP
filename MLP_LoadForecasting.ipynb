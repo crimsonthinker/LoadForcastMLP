{
  "nbformat": 4,
  "nbformat_minor": 0,
  "metadata": {
    "colab": {
      "name": "MLP_LoadForecasting.ipynb",
      "provenance": [],
      "collapsed_sections": [],
      "include_colab_link": true
    },
    "kernelspec": {
      "name": "python3",
      "display_name": "Python 3"
    }
  },
  "cells": [
    {
      "cell_type": "markdown",
      "metadata": {
        "id": "view-in-github",
        "colab_type": "text"
      },
      "source": [
        "<a href=\"https://colab.research.google.com/github/nguyenthanhhoan/LoadForcastMLP/blob/master/MLP_LoadForecasting.ipynb\" target=\"_parent\"><img src=\"https://colab.research.google.com/assets/colab-badge.svg\" alt=\"Open In Colab\"/></a>"
      ]
    },
    {
      "cell_type": "markdown",
      "metadata": {
        "id": "1UHvZjQ8TVZv",
        "colab_type": "text"
      },
      "source": [
        "**MLP Neuron Network paper implementation \n",
        "Created by Hoan Thanh Nguyen**\n",
        "\n",
        "*No installation requires. All the blocks of code are implements on Google Colab (colab.research.google.com)*\n",
        "\n",
        "The reasons of using Google Colab are (1) it is free of charge, (2) it does not require you to install any further libraries to your systems (which is really troublesome sometimes) and (3) it provides 12 consecutive hours of free GPU.\n",
        "\n",
        "**Instructions:**\n",
        "1.   Go to colab.research.google.com (sign in with your gmail account)\n",
        "2.   Upload this notebook to your working repository by clicking File - Upload notebook\n",
        "3.  Change runtime: in order to use free GPU on google colab, please go to Runtime - Change runtime type - set Hardware accelerator to GPU\n",
        "4.  Go through the following sections step by step to achieve the results in the paper.\n",
        "\n",
        "\n",
        "\n"
      ]
    },
    {
      "cell_type": "markdown",
      "metadata": {
        "id": "jLrN_S4BVRZv",
        "colab_type": "text"
      },
      "source": [
        "## **Importing neccessary libraries**\n",
        "\n"
      ]
    },
    {
      "cell_type": "code",
      "metadata": {
        "id": "9wgy9bcTCsBF",
        "colab_type": "code",
        "colab": {}
      },
      "source": [
        "#CSVDataPreProcessor\n",
        "import csv, re, os\n",
        "import pandas as pd\n",
        "import shutil\n",
        "\n",
        "#MLP Lib\n",
        "import tensorflow as tf\n",
        "import numpy as np\n",
        "import copy, datetime, statistics\n",
        "\n",
        "from google.colab import files"
      ],
      "execution_count": 0,
      "outputs": []
    },
    {
      "cell_type": "markdown",
      "metadata": {
        "id": "QPSFaSbDWIOy",
        "colab_type": "text"
      },
      "source": [
        "## **Clone the repository to Google Colab**"
      ]
    },
    {
      "cell_type": "code",
      "metadata": {
        "id": "WexRK6VKWLmz",
        "colab_type": "code",
        "colab": {}
      },
      "source": [
        "!git clone https://github.com/nguyenthanhhoan/LoadForcastMLP.git"
      ],
      "execution_count": 0,
      "outputs": []
    },
    {
      "cell_type": "code",
      "metadata": {
        "id": "_zh5ovCQWnE6",
        "colab_type": "code",
        "colab": {}
      },
      "source": [
        "# Import all the neccessary modules in the cloned repository\n",
        "from data_preprocessor import CSVDataPreProcessor\n",
        "from MLPLayer import MLP\n",
        "import sys"
      ],
      "execution_count": 0,
      "outputs": []
    },
    {
      "cell_type": "code",
      "metadata": {
        "id": "MHSxH59OYkn7",
        "colab_type": "code",
        "colab": {}
      },
      "source": [
        "input_size = 5 #Lấy 100 số làm input, mỗi kết quả cách nhau 1 quãng thời gian bằng nhau\n",
        "output_size = 1 #Dự đoán 5 số vol, mỗi số vol cách nhau 1 quãng thời gian bằng nhau\n",
        "n_hidden = 3\n",
        "batch_size = 10\n",
        "learning_rate = 0.05\n",
        "training_epoch = 100 #fix\n",
        "num_folds = 8\n",
        "#Getting system parameters\n",
        "#if len(sys.argv) != 3:\n",
        "#    print(\"Please type according to this format: python3 main.py [file name] [column name]\")\n",
        "#    exit(-1)\n",
        "#file_name = sys.argv[1]\n",
        "#column_name = sys.argv[2]\n",
        "\n",
        "#Please type file_name and column_name\n",
        "file_name = \"\"\n",
        "column_name = \"\""
      ],
      "execution_count": 0,
      "outputs": []
    },
    {
      "cell_type": "markdown",
      "metadata": {
        "id": "zVJ6LMZYWvF0",
        "colab_type": "text"
      },
      "source": [
        "## **Upload raw data in the csv file**"
      ]
    },
    {
      "cell_type": "code",
      "metadata": {
        "id": "g7Aaf28bWzDb",
        "colab_type": "code",
        "colab": {}
      },
      "source": [
        "# Run this and select the DayMarked.csv file in your computer\n",
        "files.upload()"
      ],
      "execution_count": 0,
      "outputs": []
    },
    {
      "cell_type": "markdown",
      "metadata": {
        "id": "1up6prUWXtFm",
        "colab_type": "text"
      },
      "source": [
        "## **From the csv file, we import data processing**"
      ]
    },
    {
      "cell_type": "code",
      "metadata": {
        "id": "dOFFZkz9Xym7",
        "colab_type": "code",
        "colab": {}
      },
      "source": [
        "data = CSVDataPreProcessor(file_name,input_size,output_size) #Khởi tạo biến\n",
        "X,Y = data.load_column_data(column_name)"
      ],
      "execution_count": 0,
      "outputs": []
    },
    {
      "cell_type": "markdown",
      "metadata": {
        "id": "PuqvdwJdYXic",
        "colab_type": "text"
      },
      "source": [
        "## **Run Training Data**"
      ]
    },
    {
      "cell_type": "code",
      "metadata": {
        "id": "eNCEOQxQYcfK",
        "colab_type": "code",
        "colab": {}
      },
      "source": [
        "MLP_instance = MLP(input_size, n_hidden, output_size,learning_rate,batch_size,training_epoch)"
      ],
      "execution_count": 0,
      "outputs": []
    },
    {
      "cell_type": "markdown",
      "metadata": {
        "id": "VqpUQ8jnY7f1",
        "colab_type": "text"
      },
      "source": [
        "## **Get result Training Forecast**"
      ]
    },
    {
      "cell_type": "code",
      "metadata": {
        "id": "T-MqAxihYiyM",
        "colab_type": "code",
        "colab": {}
      },
      "source": [
        "MLP_instance.train_save_and_log(X,Y,num_folds,'./' + file_name[:len(file_name) - 4] + '/' + column_name,file_name[:len(file_name) - 4] + '/' + column_name + '/model') "
      ],
      "execution_count": 0,
      "outputs": []
    }
  ]
}